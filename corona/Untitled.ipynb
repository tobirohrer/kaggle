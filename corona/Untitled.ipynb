{
 "cells": [
  {
   "cell_type": "code",
   "execution_count": null,
   "metadata": {},
   "outputs": [],
   "source": [
    "import pandas as pd\n",
    "import matplotlib.pyplot as plt\n",
    "import statsmodels.api as sm\n",
    "from fbprophet import Prophet"
   ]
  },
  {
   "cell_type": "code",
   "execution_count": null,
   "metadata": {},
   "outputs": [],
   "source": [
    "# fix for broken plots after prophet import\n",
    "pd.plotting.register_matplotlib_converters()"
   ]
  },
  {
   "cell_type": "code",
   "execution_count": null,
   "metadata": {},
   "outputs": [],
   "source": [
    "train_data = pd.read_csv('./train.csv')\n",
    "test_data = pd.read_csv('./test.csv')\n",
    "\n",
    "combined = [train_data, test_data]"
   ]
  },
  {
   "cell_type": "markdown",
   "metadata": {},
   "source": [
    "# EDA"
   ]
  },
  {
   "cell_type": "code",
   "execution_count": null,
   "metadata": {},
   "outputs": [],
   "source": [
    "train_data.head()"
   ]
  },
  {
   "cell_type": "code",
   "execution_count": null,
   "metadata": {},
   "outputs": [],
   "source": [
    "train_data.describe()"
   ]
  },
  {
   "cell_type": "code",
   "execution_count": null,
   "metadata": {},
   "outputs": [],
   "source": [
    "total_cases = train_data.groupby(['Date']).sum().drop(['Id'],axis=1)\n",
    "total_cases.head()"
   ]
  },
  {
   "cell_type": "code",
   "execution_count": null,
   "metadata": {},
   "outputs": [],
   "source": [
    "fig, (ax1, ax2) = plt.subplots(1, 2, figsize=(17,7))\n",
    "total_cases.plot(ax=ax1)\n",
    "ax1.set_title(\"Global confirmed cases\", size=13)\n",
    "ax1.set_ylabel(\"Number of cases\", size=13)\n",
    "ax1.set_xlabel(\"Date\", size=13)\n",
    "ax1.set_xticklabels(labels=total_cases.index, rotation=45)\n",
    "total_cases['Fatalities'].plot(ax=ax2, color='orange')\n",
    "ax2.set_title(\"Fatalities\", size=13)\n",
    "ax2.set_ylabel(\"Number of cases\", size=13)\n",
    "ax2.set_xlabel(\"Date\", size=13)\n",
    "ax2.set_xticklabels(labels=total_cases.index, rotation=45)"
   ]
  },
  {
   "cell_type": "code",
   "execution_count": null,
   "metadata": {},
   "outputs": [],
   "source": [
    "total_cases_without_china = train_data[train_data['Country_Region']!='China'].groupby(['Date']).sum().drop(['Id'],axis=1)\n",
    "\n",
    "fig, (ax1, ax2) = plt.subplots(1, 2, figsize=(17,7))\n",
    "total_cases_without_china.plot(ax=ax1)\n",
    "fig.suptitle('Excluding china', fontsize=16)\n",
    "ax1.set_title(\"Confirmed cases and fatalities\", size=13)\n",
    "ax1.set_ylabel(\"Number of cases\", size=13)\n",
    "ax1.set_xlabel(\"Date\", size=13)\n",
    "ax1.set_xticklabels(labels=total_cases.index, rotation=45)\n",
    "total_cases_without_china['Fatalities'].plot(ax=ax2, color='orange')\n",
    "ax2.set_title(\"Fatalities\", size=13)\n",
    "ax2.set_ylabel(\"Number of cases\", size=13)\n",
    "ax2.set_xlabel(\"Date\", size=13)\n",
    "ax2.set_xticklabels(labels=total_cases.index, rotation=45)"
   ]
  },
  {
   "cell_type": "markdown",
   "metadata": {},
   "source": [
    "# Convert Train data to Time Series"
   ]
  },
  {
   "cell_type": "code",
   "execution_count": null,
   "metadata": {},
   "outputs": [],
   "source": [
    "#setting Datetime as index for the df -> this makes a df to a time series\n",
    "\n",
    "ts = train_data\n",
    "ts.index = pd.to_datetime(ts.Date)\n",
    "ts"
   ]
  },
  {
   "cell_type": "code",
   "execution_count": null,
   "metadata": {},
   "outputs": [],
   "source": [
    "ts = ts[ts['Country_Region'] == 'Germany']\n",
    "ts = ts[['ConfirmedCases','Fatalities']]\n",
    "ts"
   ]
  },
  {
   "cell_type": "code",
   "execution_count": null,
   "metadata": {},
   "outputs": [],
   "source": [
    "ts.plot(grid=True)"
   ]
  },
  {
   "cell_type": "code",
   "execution_count": null,
   "metadata": {},
   "outputs": [],
   "source": [
    "ts.pct_change().plot(grid=True)"
   ]
  },
  {
   "cell_type": "code",
   "execution_count": null,
   "metadata": {},
   "outputs": [],
   "source": [
    "# showing correlation between cases and fatalities.\n",
    "\n",
    "plt.scatter(ts['ConfirmedCases'],ts['Fatalities'])\n",
    "plt.title(\"Slightly exponential trend of Fatalities and Confirmed Cases\")\n",
    "plt.xlabel(\"Confirmed Cases\")\n",
    "plt.ylabel(\"Fatalities\")\n",
    "plt.show()"
   ]
  },
  {
   "cell_type": "markdown",
   "metadata": {},
   "source": [
    "# Regression and correlation between Fatalities and ConfirmedCases"
   ]
  },
  {
   "cell_type": "code",
   "execution_count": null,
   "metadata": {},
   "outputs": [],
   "source": [
    "ts.corr()"
   ]
  },
  {
   "cell_type": "code",
   "execution_count": null,
   "metadata": {},
   "outputs": [],
   "source": [
    "ts.pct_change().corr()"
   ]
  },
  {
   "cell_type": "code",
   "execution_count": null,
   "metadata": {},
   "outputs": [],
   "source": [
    "#adding constant so ols calculates intercept\n",
    "\n",
    "model = sm.OLS(ts['ConfirmedCases'], sm.add_constant(ts['Fatalities'])).fit()"
   ]
  },
  {
   "cell_type": "code",
   "execution_count": null,
   "metadata": {},
   "outputs": [],
   "source": [
    "sm.add_constant(ts['ConfirmedCases'])"
   ]
  },
  {
   "cell_type": "code",
   "execution_count": null,
   "metadata": {
    "scrolled": true
   },
   "outputs": [],
   "source": [
    "model.summary()"
   ]
  },
  {
   "cell_type": "markdown",
   "metadata": {},
   "source": [
    "# Univariate TS Forecasting using Facebook Prohet library"
   ]
  },
  {
   "cell_type": "code",
   "execution_count": null,
   "metadata": {},
   "outputs": [],
   "source": [
    "model = Prophet()\n",
    "prophet_ts = pd.DataFrame({'ds': ts.index, 'y': ts['ConfirmedCases']})\n",
    "model.fit(prophet_ts)"
   ]
  },
  {
   "cell_type": "code",
   "execution_count": null,
   "metadata": {},
   "outputs": [],
   "source": [
    "future = model.make_future_dataframe(periods=5)\n",
    "forecast = model.predict(future)\n",
    "forecast[['ds', 'yhat', 'yhat_lower', 'yhat_upper']].tail()"
   ]
  },
  {
   "cell_type": "code",
   "execution_count": null,
   "metadata": {},
   "outputs": [],
   "source": [
    "model.plot(forecast)"
   ]
  },
  {
   "cell_type": "code",
   "execution_count": null,
   "metadata": {},
   "outputs": [],
   "source": [
    "model.plot_components(forecast)"
   ]
  },
  {
   "cell_type": "code",
   "execution_count": null,
   "metadata": {},
   "outputs": [],
   "source": []
  }
 ],
 "metadata": {
  "kernelspec": {
   "display_name": "Python 3",
   "language": "python",
   "name": "python3"
  },
  "language_info": {
   "codemirror_mode": {
    "name": "ipython",
    "version": 3
   },
   "file_extension": ".py",
   "mimetype": "text/x-python",
   "name": "python",
   "nbconvert_exporter": "python",
   "pygments_lexer": "ipython3",
   "version": "3.7.7"
  }
 },
 "nbformat": 4,
 "nbformat_minor": 2
}
