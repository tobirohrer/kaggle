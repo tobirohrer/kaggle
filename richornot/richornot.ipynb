{
 "cells": [
  {
   "cell_type": "code",
   "execution_count": null,
   "metadata": {},
   "outputs": [],
   "source": [
    "import pandas as pd\n",
    "import seaborn as sns\n",
    "import matplotlib.pyplot as plt\n",
    "from sklearn.model_selection import train_test_split\n",
    "from sklearn.linear_model import LogisticRegression\n",
    "from sklearn.metrics import mean_absolute_error\n",
    "from sklearn.metrics import accuracy_score\n",
    "from sklearn.model_selection import cross_val_score"
   ]
  },
  {
   "cell_type": "code",
   "execution_count": null,
   "metadata": {},
   "outputs": [],
   "source": [
    "train_data = pd.read_csv('training.txt', sep=\"\\t\", header=None)"
   ]
  },
  {
   "cell_type": "code",
   "execution_count": null,
   "metadata": {},
   "outputs": [],
   "source": [
    "train_data.columns = ['age', 'workclass', 'fnlwgt', 'education', 'education-num', 'marital-status', 'occupation', 'relationship', 'race', 'sex', 'capital-gain', 'capital-loss', 'hours-per-week', 'native-country', 'income']"
   ]
  },
  {
   "cell_type": "markdown",
   "metadata": {},
   "source": [
    "# EDA"
   ]
  },
  {
   "cell_type": "code",
   "execution_count": null,
   "metadata": {},
   "outputs": [],
   "source": [
    "train_data.head()"
   ]
  },
  {
   "cell_type": "code",
   "execution_count": null,
   "metadata": {},
   "outputs": [],
   "source": [
    "#check for null values\n",
    "train_data.isnull().sum()"
   ]
  },
  {
   "cell_type": "code",
   "execution_count": null,
   "metadata": {},
   "outputs": [],
   "source": [
    "train_data['capital-loss'].describe()"
   ]
  },
  {
   "cell_type": "code",
   "execution_count": null,
   "metadata": {},
   "outputs": [],
   "source": [
    "f, ax = plt.subplots(5,2,figsize=(18,20))\n",
    "\n",
    "train_data['age'].plot.hist(ax=ax[0][0])\n",
    "ax[0][0].set_title('Distribution of age')\n",
    "\n",
    "sns.countplot('workclass', data=train_data, ax=ax[0][1])\n",
    "ax[0][1].set_title('distribution of workclass')\n",
    "ax[0][1].set_xticklabels(ax[0][1].get_xticklabels(), rotation=45)\n",
    "\n",
    "sns.countplot('education', data=train_data, ax=ax[1][0])\n",
    "ax[1][0].set_title('distribution of education')\n",
    "ax[1][0].set_xticklabels(ax[1][0].get_xticklabels(), rotation=45)\n",
    "\n",
    "sns.countplot('occupation', data=train_data, ax=ax[1][1])\n",
    "ax[1][1].set_title('distribution of occupation')\n",
    "ax[1][1].set_xticklabels(ax[1][1].get_xticklabels(), rotation=90)\n",
    "\n",
    "sns.countplot('relationship', data=train_data, ax=ax[2][0])\n",
    "ax[2][0].set_title('distribution of relationship')\n",
    "ax[2][0].set_xticklabels(ax[2][0].get_xticklabels(), rotation=45)\n",
    "\n",
    "sns.countplot('marital-status', data=train_data, ax=ax[2][1])\n",
    "ax[2][1].set_title('distribution of marital-status')\n",
    "ax[2][1].set_xticklabels(ax[2][1].get_xticklabels(), rotation=45)\n",
    "\n",
    "sns.countplot('sex', data=train_data, ax=ax[3][0])\n",
    "ax[3][0].set_title('distribution of sex')\n",
    "\n",
    "sns.countplot('race', data=train_data, ax=ax[3][1])\n",
    "ax[3][1].set_title('distribution of race')\n",
    "ax[3][1].set_xticklabels(ax[3][1].get_xticklabels(), rotation=45)\n",
    "\n",
    "train_data['hours-per-week'].plot.hist(ax=ax[4][0])\n",
    "ax[4][0].set_title('Distribution of working hours per week')\n",
    "\n",
    "sns.countplot('native-country', data=train_data, ax=ax[4][1])\n",
    "ax[4][1].set_title('distribution of country')\n",
    "ax[4][1].set_xticklabels(ax[4][1].get_xticklabels(), rotation=45)\n",
    "\n",
    "f.tight_layout(pad=4.0)"
   ]
  },
  {
   "cell_type": "code",
   "execution_count": null,
   "metadata": {},
   "outputs": [],
   "source": [
    "train_data['native-country'].value_counts()"
   ]
  },
  {
   "cell_type": "code",
   "execution_count": null,
   "metadata": {},
   "outputs": [],
   "source": [
    "sns.countplot('income', data=train_data)"
   ]
  },
  {
   "cell_type": "markdown",
   "metadata": {},
   "source": [
    "# Data Wrangling"
   ]
  },
  {
   "cell_type": "code",
   "execution_count": null,
   "metadata": {},
   "outputs": [],
   "source": [
    "def encode_income(income):\n",
    "    if income == ' <=50K':\n",
    "        return 0\n",
    "    if income == ' >50K':\n",
    "        return 1\n",
    "\n",
    "train_data['income'] = train_data['income'].apply(encode_income)"
   ]
  },
  {
   "cell_type": "code",
   "execution_count": null,
   "metadata": {},
   "outputs": [],
   "source": [
    "train_data"
   ]
  },
  {
   "cell_type": "code",
   "execution_count": null,
   "metadata": {},
   "outputs": [],
   "source": [
    "feature_columns = ['age', 'education-num', 'hours-per-week']"
   ]
  },
  {
   "cell_type": "code",
   "execution_count": null,
   "metadata": {},
   "outputs": [],
   "source": [
    "train_X, val_X, train_y, val_y = train_test_split(train_data[feature_columns], train_data['income'], random_state = 0)"
   ]
  },
  {
   "cell_type": "code",
   "execution_count": null,
   "metadata": {},
   "outputs": [],
   "source": [
    "model = LogisticRegression()"
   ]
  },
  {
   "cell_type": "code",
   "execution_count": null,
   "metadata": {},
   "outputs": [],
   "source": [
    "mean_absolute_error(prediction, val_y)"
   ]
  },
  {
   "cell_type": "code",
   "execution_count": null,
   "metadata": {},
   "outputs": [],
   "source": [
    "scores = cross_val_score(LogisticRegression(),\n",
    "                         train_data[feature_columns],\n",
    "                         train_data['income'],\n",
    "                         cv=5,\n",
    "                         scoring='accuracy')\n",
    "\n",
    "scores.mean()"
   ]
  },
  {
   "cell_type": "code",
   "execution_count": null,
   "metadata": {},
   "outputs": [],
   "source": [
    "model.fit(train_data[feature_columns], train_data['income'])"
   ]
  }
 ],
 "metadata": {
  "kernelspec": {
   "display_name": "Python 3",
   "language": "python",
   "name": "python3"
  },
  "language_info": {
   "codemirror_mode": {
    "name": "ipython",
    "version": 3
   },
   "file_extension": ".py",
   "mimetype": "text/x-python",
   "name": "python",
   "nbconvert_exporter": "python",
   "pygments_lexer": "ipython3",
   "version": "3.7.7"
  }
 },
 "nbformat": 4,
 "nbformat_minor": 4
}
